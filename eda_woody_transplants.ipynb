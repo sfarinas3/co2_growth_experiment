{
 "cells": [
  {
   "cell_type": "code",
   "execution_count": 19,
   "metadata": {},
   "outputs": [
    {
     "data": {
      "text/plain": [
       "\"\\nWoody expt\\nBoudell_CO2_WoodyBiomass   we can remove the ALCE for failure to participate, \\nwe likely don't need the stem len and root len data since we do not have the full set of data for these factors\\nno germination data sheet yet b/c I want to organize it for the glmm\\n\""
      ]
     },
     "execution_count": 19,
     "metadata": {},
     "output_type": "execute_result"
    }
   ],
   "source": [
    "'''\n",
    "Woody expt\n",
    "Boudell_CO2_WoodyBiomass   we can remove the ALCE for failure to participate, \n",
    "we likely don't need the stem len and root len data since we do not have the full set of data for these factors\n",
    "no germination data sheet yet b/c I want to organize it for the glmm\n",
    "'''"
   ]
  },
  {
   "cell_type": "code",
   "execution_count": 20,
   "metadata": {},
   "outputs": [],
   "source": [
    "import pandas as pd\n",
    "import numpy as np\n",
    "import seaborn as sn\n",
    "import matplotlib.pyplot as plt\n",
    "import eda_model_funcs as emf\n",
    "import statsmodels\n",
    "import statsmodels.formula.api as smf\n",
    "# import pymer4  \n",
    "sn.set_theme(style='darkgrid')"
   ]
  },
  {
   "cell_type": "code",
   "execution_count": 21,
   "metadata": {},
   "outputs": [],
   "source": [
    "dfwt = pd.read_csv('woody_transplants_raw.csv')\n",
    "dfwt.columns = ['num','species','chamber','shelf','water_lvl','rep','ag_biomass','bg_biomass','diam','stem_len','root_len','ag2','bg2']\n",
    "dfwt = dfwt[dfwt.species != 'ALCE']"
   ]
  },
  {
   "cell_type": "code",
   "execution_count": 22,
   "metadata": {},
   "outputs": [
    {
     "data": {
      "text/html": [
       "<div>\n",
       "<style scoped>\n",
       "    .dataframe tbody tr th:only-of-type {\n",
       "        vertical-align: middle;\n",
       "    }\n",
       "\n",
       "    .dataframe tbody tr th {\n",
       "        vertical-align: top;\n",
       "    }\n",
       "\n",
       "    .dataframe thead th {\n",
       "        text-align: right;\n",
       "    }\n",
       "</style>\n",
       "<table border=\"1\" class=\"dataframe\">\n",
       "  <thead>\n",
       "    <tr style=\"text-align: right;\">\n",
       "      <th></th>\n",
       "      <th>num</th>\n",
       "      <th>species</th>\n",
       "      <th>chamber</th>\n",
       "      <th>shelf</th>\n",
       "      <th>water_lvl</th>\n",
       "      <th>rep</th>\n",
       "      <th>ag_biomass</th>\n",
       "      <th>bg_biomass</th>\n",
       "      <th>diam</th>\n",
       "      <th>stem_len</th>\n",
       "      <th>root_len</th>\n",
       "      <th>ag2</th>\n",
       "      <th>bg2</th>\n",
       "    </tr>\n",
       "  </thead>\n",
       "  <tbody>\n",
       "    <tr>\n",
       "      <th>5</th>\n",
       "      <td>6</td>\n",
       "      <td>CEOC</td>\n",
       "      <td>1</td>\n",
       "      <td>TL</td>\n",
       "      <td>H</td>\n",
       "      <td>1</td>\n",
       "      <td>0.0077</td>\n",
       "      <td>0.0078</td>\n",
       "      <td>0.78</td>\n",
       "      <td>1.0</td>\n",
       "      <td>NaN</td>\n",
       "      <td>NaN</td>\n",
       "      <td>NaN</td>\n",
       "    </tr>\n",
       "    <tr>\n",
       "      <th>6</th>\n",
       "      <td>7</td>\n",
       "      <td>CEOC</td>\n",
       "      <td>1</td>\n",
       "      <td>TR</td>\n",
       "      <td>L</td>\n",
       "      <td>2</td>\n",
       "      <td>0.0205</td>\n",
       "      <td>0.0852</td>\n",
       "      <td>1.01</td>\n",
       "      <td>2.7</td>\n",
       "      <td>NaN</td>\n",
       "      <td>NaN</td>\n",
       "      <td>NaN</td>\n",
       "    </tr>\n",
       "    <tr>\n",
       "      <th>7</th>\n",
       "      <td>8</td>\n",
       "      <td>CEOC</td>\n",
       "      <td>1</td>\n",
       "      <td>TR</td>\n",
       "      <td>A</td>\n",
       "      <td>2</td>\n",
       "      <td>0.0127</td>\n",
       "      <td>0.0713</td>\n",
       "      <td>0.9</td>\n",
       "      <td>1.5</td>\n",
       "      <td>NaN</td>\n",
       "      <td>NaN</td>\n",
       "      <td>NaN</td>\n",
       "    </tr>\n",
       "    <tr>\n",
       "      <th>8</th>\n",
       "      <td>9</td>\n",
       "      <td>CEOC</td>\n",
       "      <td>1</td>\n",
       "      <td>B</td>\n",
       "      <td>H</td>\n",
       "      <td>3</td>\n",
       "      <td>0.0073</td>\n",
       "      <td>0.031</td>\n",
       "      <td>0.8</td>\n",
       "      <td>1.0</td>\n",
       "      <td>NaN</td>\n",
       "      <td>NaN</td>\n",
       "      <td>NaN</td>\n",
       "    </tr>\n",
       "    <tr>\n",
       "      <th>9</th>\n",
       "      <td>10</td>\n",
       "      <td>CEOC</td>\n",
       "      <td>1</td>\n",
       "      <td>TL</td>\n",
       "      <td>L</td>\n",
       "      <td>4</td>\n",
       "      <td>0.004</td>\n",
       "      <td>0.0057</td>\n",
       "      <td>0.56</td>\n",
       "      <td>1.3</td>\n",
       "      <td>NaN</td>\n",
       "      <td>NaN</td>\n",
       "      <td>NaN</td>\n",
       "    </tr>\n",
       "  </tbody>\n",
       "</table>\n",
       "</div>"
      ],
      "text/plain": [
       "   num species  chamber shelf water_lvl  rep ag_biomass bg_biomass  diam  \\\n",
       "5    6    CEOC        1    TL         H    1     0.0077     0.0078  0.78   \n",
       "6    7    CEOC        1    TR         L    2     0.0205     0.0852  1.01   \n",
       "7    8    CEOC        1    TR         A    2     0.0127     0.0713   0.9   \n",
       "8    9    CEOC        1     B         H    3     0.0073      0.031   0.8   \n",
       "9   10    CEOC        1    TL         L    4      0.004     0.0057  0.56   \n",
       "\n",
       "   stem_len  root_len  ag2  bg2  \n",
       "5       1.0       NaN  NaN  NaN  \n",
       "6       2.7       NaN  NaN  NaN  \n",
       "7       1.5       NaN  NaN  NaN  \n",
       "8       1.0       NaN  NaN  NaN  \n",
       "9       1.3       NaN  NaN  NaN  "
      ]
     },
     "execution_count": 22,
     "metadata": {},
     "output_type": "execute_result"
    }
   ],
   "source": [
    "dfwt.head()"
   ]
  },
  {
   "cell_type": "code",
   "execution_count": 26,
   "metadata": {},
   "outputs": [
    {
     "data": {
      "text/html": [
       "<div>\n",
       "<style scoped>\n",
       "    .dataframe tbody tr th:only-of-type {\n",
       "        vertical-align: middle;\n",
       "    }\n",
       "\n",
       "    .dataframe tbody tr th {\n",
       "        vertical-align: top;\n",
       "    }\n",
       "\n",
       "    .dataframe thead th {\n",
       "        text-align: right;\n",
       "    }\n",
       "</style>\n",
       "<table border=\"1\" class=\"dataframe\">\n",
       "  <thead>\n",
       "    <tr style=\"text-align: right;\">\n",
       "      <th></th>\n",
       "      <th>num</th>\n",
       "      <th>chamber</th>\n",
       "      <th>rep</th>\n",
       "      <th>stem_len</th>\n",
       "      <th>root_len</th>\n",
       "      <th>ag2</th>\n",
       "      <th>bg2</th>\n",
       "    </tr>\n",
       "  </thead>\n",
       "  <tbody>\n",
       "    <tr>\n",
       "      <th>count</th>\n",
       "      <td>144.000000</td>\n",
       "      <td>144.000000</td>\n",
       "      <td>144.000000</td>\n",
       "      <td>36.000000</td>\n",
       "      <td>1.0</td>\n",
       "      <td>5.000000</td>\n",
       "      <td>5.000000</td>\n",
       "    </tr>\n",
       "    <tr>\n",
       "      <th>mean</th>\n",
       "      <td>77.500000</td>\n",
       "      <td>2.500000</td>\n",
       "      <td>3.500000</td>\n",
       "      <td>3.819444</td>\n",
       "      <td>2.4</td>\n",
       "      <td>0.445900</td>\n",
       "      <td>0.262740</td>\n",
       "    </tr>\n",
       "    <tr>\n",
       "      <th>std</th>\n",
       "      <td>41.713307</td>\n",
       "      <td>1.121936</td>\n",
       "      <td>1.713786</td>\n",
       "      <td>6.772795</td>\n",
       "      <td>NaN</td>\n",
       "      <td>0.422535</td>\n",
       "      <td>0.258233</td>\n",
       "    </tr>\n",
       "    <tr>\n",
       "      <th>min</th>\n",
       "      <td>6.000000</td>\n",
       "      <td>1.000000</td>\n",
       "      <td>1.000000</td>\n",
       "      <td>0.800000</td>\n",
       "      <td>2.4</td>\n",
       "      <td>0.038100</td>\n",
       "      <td>0.018800</td>\n",
       "    </tr>\n",
       "    <tr>\n",
       "      <th>25%</th>\n",
       "      <td>41.750000</td>\n",
       "      <td>1.750000</td>\n",
       "      <td>2.000000</td>\n",
       "      <td>1.500000</td>\n",
       "      <td>2.4</td>\n",
       "      <td>0.055000</td>\n",
       "      <td>0.034500</td>\n",
       "    </tr>\n",
       "    <tr>\n",
       "      <th>50%</th>\n",
       "      <td>77.500000</td>\n",
       "      <td>2.500000</td>\n",
       "      <td>3.500000</td>\n",
       "      <td>1.950000</td>\n",
       "      <td>2.4</td>\n",
       "      <td>0.517200</td>\n",
       "      <td>0.296900</td>\n",
       "    </tr>\n",
       "    <tr>\n",
       "      <th>75%</th>\n",
       "      <td>113.250000</td>\n",
       "      <td>3.250000</td>\n",
       "      <td>5.000000</td>\n",
       "      <td>3.225000</td>\n",
       "      <td>2.4</td>\n",
       "      <td>0.559200</td>\n",
       "      <td>0.311400</td>\n",
       "    </tr>\n",
       "    <tr>\n",
       "      <th>max</th>\n",
       "      <td>149.000000</td>\n",
       "      <td>4.000000</td>\n",
       "      <td>6.000000</td>\n",
       "      <td>37.500000</td>\n",
       "      <td>2.4</td>\n",
       "      <td>1.060000</td>\n",
       "      <td>0.652100</td>\n",
       "    </tr>\n",
       "  </tbody>\n",
       "</table>\n",
       "</div>"
      ],
      "text/plain": [
       "              num     chamber         rep   stem_len  root_len       ag2  \\\n",
       "count  144.000000  144.000000  144.000000  36.000000       1.0  5.000000   \n",
       "mean    77.500000    2.500000    3.500000   3.819444       2.4  0.445900   \n",
       "std     41.713307    1.121936    1.713786   6.772795       NaN  0.422535   \n",
       "min      6.000000    1.000000    1.000000   0.800000       2.4  0.038100   \n",
       "25%     41.750000    1.750000    2.000000   1.500000       2.4  0.055000   \n",
       "50%     77.500000    2.500000    3.500000   1.950000       2.4  0.517200   \n",
       "75%    113.250000    3.250000    5.000000   3.225000       2.4  0.559200   \n",
       "max    149.000000    4.000000    6.000000  37.500000       2.4  1.060000   \n",
       "\n",
       "            bg2  \n",
       "count  5.000000  \n",
       "mean   0.262740  \n",
       "std    0.258233  \n",
       "min    0.018800  \n",
       "25%    0.034500  \n",
       "50%    0.296900  \n",
       "75%    0.311400  \n",
       "max    0.652100  "
      ]
     },
     "execution_count": 26,
     "metadata": {},
     "output_type": "execute_result"
    }
   ],
   "source": [
    "dfwt.describe()"
   ]
  },
  {
   "cell_type": "code",
   "execution_count": 27,
   "metadata": {},
   "outputs": [
    {
     "data": {
      "text/plain": [
       "chamber  shelf  species\n",
       "1        B      CEOC       3\n",
       "                POFR       3\n",
       "                SAGO       3\n",
       "                TACH       3\n",
       "         TL     CEOC       3\n",
       "                POFR       3\n",
       "                SAGO       3\n",
       "                TACH       3\n",
       "         TR     CEOC       3\n",
       "                POFR       3\n",
       "                SAGO       3\n",
       "                TACH       3\n",
       "2        B      CEOC       3\n",
       "                POFR       3\n",
       "                SAGO       3\n",
       "                TACH       3\n",
       "         TL     CEOC       3\n",
       "                POFR       3\n",
       "                SAGO       3\n",
       "                TACH       3\n",
       "         TR     CEOC       3\n",
       "                POFR       3\n",
       "                SAGO       3\n",
       "                TACH       3\n",
       "3        B      CEOC       3\n",
       "                POFR       3\n",
       "                SAGO       3\n",
       "                TACH       3\n",
       "         TL     CEOC       3\n",
       "                POFR       3\n",
       "                SAGO       3\n",
       "                TACH       3\n",
       "         TR     CEOC       3\n",
       "                POFR       3\n",
       "                SAGO       3\n",
       "                TACH       3\n",
       "4        B      CEOC       3\n",
       "                POFR       3\n",
       "                SAGO       3\n",
       "                TACH       3\n",
       "         TL     CEOC       3\n",
       "                POFR       3\n",
       "                SAGO       3\n",
       "                TACH       3\n",
       "         TR     CEOC       3\n",
       "                POFR       3\n",
       "                SAGO       3\n",
       "                TACH       3\n",
       "dtype: int64"
      ]
     },
     "execution_count": 27,
     "metadata": {},
     "output_type": "execute_result"
    }
   ],
   "source": [
    "dfwt.groupby(['chamber','shelf','species']).size()"
   ]
  },
  {
   "cell_type": "code",
   "execution_count": 28,
   "metadata": {},
   "outputs": [],
   "source": [
    "dfwt.isna().sum()\n",
    "dfwt = dfwt.drop(columns = ['stem_len','root_len'])"
   ]
  },
  {
   "cell_type": "code",
   "execution_count": 29,
   "metadata": {},
   "outputs": [
    {
     "name": "stdout",
     "output_type": "stream",
     "text": [
      "['CEOC' 'POFR' 'SAGO' 'TACH']\n",
      "Species: CEOC\n",
      "num            0\n",
      "species        0\n",
      "chamber        0\n",
      "shelf          0\n",
      "water_lvl      0\n",
      "rep            0\n",
      "ag_biomass     0\n",
      "bg_biomass     2\n",
      "diam           2\n",
      "ag2           34\n",
      "bg2           34\n",
      "dtype: int64\n",
      "----------\n",
      "Species: POFR\n",
      "num            0\n",
      "species        0\n",
      "chamber        0\n",
      "shelf          0\n",
      "water_lvl      0\n",
      "rep            0\n",
      "ag_biomass     0\n",
      "bg_biomass     0\n",
      "diam           0\n",
      "ag2           36\n",
      "bg2           36\n",
      "dtype: int64\n",
      "----------\n",
      "Species: SAGO\n",
      "num            0\n",
      "species        0\n",
      "chamber        0\n",
      "shelf          0\n",
      "water_lvl      0\n",
      "rep            0\n",
      "ag_biomass     0\n",
      "bg_biomass     1\n",
      "diam           1\n",
      "ag2           33\n",
      "bg2           33\n",
      "dtype: int64\n",
      "----------\n",
      "Species: TACH\n",
      "num            0\n",
      "species        0\n",
      "chamber        0\n",
      "shelf          0\n",
      "water_lvl      0\n",
      "rep            0\n",
      "ag_biomass     0\n",
      "bg_biomass     0\n",
      "diam           0\n",
      "ag2           36\n",
      "bg2           36\n",
      "dtype: int64\n",
      "----------\n"
     ]
    }
   ],
   "source": [
    "spec = dfwt.species.unique()\n",
    "print(spec)\n",
    "for sp in spec:\n",
    "    print('Species:', sp)\n",
    "    print(dfwt[dfwt.species == sp].isna().sum())\n",
    "    print('----------')"
   ]
  },
  {
   "cell_type": "code",
   "execution_count": 30,
   "metadata": {},
   "outputs": [
    {
     "data": {
      "text/plain": [
       "num             int64\n",
       "species        object\n",
       "chamber         int64\n",
       "shelf          object\n",
       "water_lvl      object\n",
       "rep             int64\n",
       "ag_biomass     object\n",
       "bg_biomass     object\n",
       "diam           object\n",
       "ag2           float64\n",
       "bg2           float64\n",
       "dtype: object"
      ]
     },
     "execution_count": 30,
     "metadata": {},
     "output_type": "execute_result"
    }
   ],
   "source": [
    "dfwt.dtypes"
   ]
  },
  {
   "cell_type": "code",
   "execution_count": 31,
   "metadata": {},
   "outputs": [
    {
     "data": {
      "text/plain": [
       "num                0\n",
       "species            0\n",
       "chamber            0\n",
       "shelf              0\n",
       "water_lvl          0\n",
       "rep                0\n",
       "ag_biomass         3\n",
       "bg_biomass         3\n",
       "diam               3\n",
       "ag2              139\n",
       "bg2              139\n",
       "total_biomass      3\n",
       "co2_lvl            0\n",
       "dtype: int64"
      ]
     },
     "execution_count": 31,
     "metadata": {},
     "output_type": "execute_result"
    }
   ],
   "source": [
    "#Feature Engineering\n",
    "for col in ['ag_biomass','bg_biomass']:\n",
    "    dfwt[col] = pd.to_numeric(dfwt[col], errors='coerce')\n",
    "dfwt['total_biomass'] = dfwt.ag_biomass + dfwt.bg_biomass\n",
    "dfwt['co2_lvl'] = np.select([dfwt.chamber.isin([1,2]), dfwt.chamber.isin([3,4])], ['Ambient','High'])\n",
    "dfwt = dfwt.sort_values(['species','water_lvl','co2_lvl'])\n",
    "dfwt.isna().sum()"
   ]
  },
  {
   "cell_type": "code",
   "execution_count": 32,
   "metadata": {},
   "outputs": [
    {
     "data": {
      "text/plain": [
       "species  water_lvl  co2_lvl\n",
       "CEOC     A          Ambient    6\n",
       "                    High       6\n",
       "         H          Ambient    5\n",
       "                    High       6\n",
       "         L          Ambient    5\n",
       "                    High       6\n",
       "POFR     A          Ambient    6\n",
       "                    High       6\n",
       "         H          Ambient    6\n",
       "                    High       6\n",
       "         L          Ambient    6\n",
       "                    High       6\n",
       "SAGO     A          Ambient    5\n",
       "                    High       6\n",
       "         H          Ambient    6\n",
       "                    High       6\n",
       "         L          Ambient    6\n",
       "                    High       6\n",
       "TACH     A          Ambient    6\n",
       "                    High       6\n",
       "         H          Ambient    6\n",
       "                    High       6\n",
       "         L          Ambient    6\n",
       "                    High       6\n",
       "dtype: int64"
      ]
     },
     "execution_count": 32,
     "metadata": {},
     "output_type": "execute_result"
    }
   ],
   "source": [
    "dfwt.dropna(subset=['total_biomass']).groupby(['species','water_lvl','co2_lvl']).size()"
   ]
  },
  {
   "cell_type": "code",
   "execution_count": 33,
   "metadata": {},
   "outputs": [
    {
     "data": {
      "text/plain": [
       "co2_lvl  chamber  shelf\n",
       "Ambient  1        B        12\n",
       "                  TL       12\n",
       "                  TR       12\n",
       "         2        B        12\n",
       "                  TL       12\n",
       "                  TR       12\n",
       "High     3        B        12\n",
       "                  TL       12\n",
       "                  TR       12\n",
       "         4        B        12\n",
       "                  TL       12\n",
       "                  TR       12\n",
       "dtype: int64"
      ]
     },
     "execution_count": 33,
     "metadata": {},
     "output_type": "execute_result"
    }
   ],
   "source": [
    "dfwt.groupby(['co2_lvl','chamber','shelf']).size()"
   ]
  },
  {
   "cell_type": "code",
   "execution_count": 13,
   "metadata": {},
   "outputs": [
    {
     "data": {
      "text/plain": [
       "<AxesSubplot:xlabel='species', ylabel='total_biomass'>"
      ]
     },
     "execution_count": 13,
     "metadata": {},
     "output_type": "execute_result"
    },
    {
     "data": {
      "image/png": "[encoded data removed]",
      "text/plain": [
       "<Figure size 640x480 with 1 Axes>"
      ]
     },
     "metadata": {},
     "output_type": "display_data"
    }
   ],
   "source": [
    "sn.boxplot(data=dfwt, x='species', y='total_biomass', hue='co2_lvl')"
   ]
  },
  {
   "cell_type": "code",
   "execution_count": 14,
   "metadata": {},
   "outputs": [
    {
     "data": {
      "image/png": "[encoded data removed]",
      "text/plain": [
       "<Figure size 1200x1000 with 4 Axes>"
      ]
     },
     "metadata": {},
     "output_type": "display_data"
    }
   ],
   "source": [
    "emf.plot_multiple_boxplots(dfwt, by = 'species', x = 'water_lvl', y = 'total_biomass', \n",
    "                           hue = 'co2_lvl', subplots = {'nrows':2, 'ncols':2, 'figsize':(12,10)})"
   ]
  },
  {
   "cell_type": "code",
   "execution_count": 15,
   "metadata": {},
   "outputs": [],
   "source": [
    "# emf.plot_sidebyside_boxplots(dfwt, by = 'species', x = 'water_lvl', y1 = 'ag_biomass', y2 = 'bg_biomass', hue = 'co2_lvl')"
   ]
  },
  {
   "cell_type": "code",
   "execution_count": 18,
   "metadata": {},
   "outputs": [],
   "source": [
    "#*** Should I rescale each species biomass to 0-1, \n",
    "\n",
    "df = dfwt.copy()\n",
    "# df = df[df.species != 'MIGU']\n",
    "df = df[df.co2_lvl.isna()==False]\n",
    "df = df[df.total_biomass.isna()==False]\n",
    "\n",
    "# df['co2_lvl'] = np.where(df.co2_lvl=='Ambient',0,1)\n",
    "# df['water_lvl'] = np.select([df.water_lvl=='Low', df.water_lvl=='Fluct', df.water_lvl=='High'], [2,0,1])\n",
    "# df['species'] = np.select([df.species=='MIGU', df.species=='NAOF', df.species=='VEAN', df.species=='POMO'], [0,1,2,3])\n",
    "df['co2_lvl'] = np.where(df['co2_lvl'] == 'High', 1, 0)\n",
    "df['water_low'] = np.where(df['water_lvl'] == 'L', 1, 0)\n",
    "df['water_fluct'] = np.where(df['water_lvl'] == 'A', 1, 0)\n",
    "df['water_high'] = np.where(df['water_lvl'] == 'H', 1, 0)\n",
    "\n",
    "###Random effect is shelf\n",
    "\n",
    "df['shelf'] = np.where(df['shelf'] == 'B', 1, df['shelf'])\n",
    "df['shelf'] = np.where(df['shelf'] == 'TL', 2, df['shelf'])\n",
    "df['shelf'] = np.where(df['shelf'] == 'TR', 3, df['shelf'])\n",
    "\n",
    "#Export model ready data\n",
    "df.to_csv('woody_transplants_model_rdy.csv')"
   ]
  },
  {
   "cell_type": "code",
   "execution_count": 60,
   "metadata": {},
   "outputs": [],
   "source": [
    "# import statsmodels.formula.api as smf\n",
    "\n",
    "# # model = smf.ols('total_biomass ~ co2_lvl', dfwt)\n",
    "# model = smf.mixedlm('total_biomass ~ co2_lvl', dfwt, groups=dfwt['shelf'])\n",
    "# res = model.fit()\n",
    "\n",
    "# print(res.summary())"
   ]
  },
  {
   "cell_type": "code",
   "execution_count": 62,
   "metadata": {},
   "outputs": [
    {
     "data": {
      "image/png": "[encoded data removed]",
      "text/plain": [
       "<Figure size 640x480 with 1 Axes>"
      ]
     },
     "metadata": {},
     "output_type": "display_data"
    },
    {
     "name": "stdout",
     "output_type": "stream",
     "text": [
      "           Mixed Linear Model Regression Results\n",
      "============================================================\n",
      "Model:             MixedLM Dependent Variable: total_biomass\n",
      "No. Observations:  34      Method:             REML         \n",
      "No. Groups:        3       Scale:              0.0011       \n",
      "Min. group size:   10      Log-Likelihood:     56.1379      \n",
      "Max. group size:   12      Converged:          No           \n",
      "Mean group size:   11.3                                     \n",
      "------------------------------------------------------------\n",
      "                  Coef.  Std.Err.   z    P>|z| [0.025 0.975]\n",
      "------------------------------------------------------------\n",
      "Intercept          0.039    0.010  3.942 0.000  0.020  0.058\n",
      "co2_lvl            0.025    0.014  1.814 0.070 -0.002  0.051\n",
      "water_low          0.012    0.018  0.696 0.487 -0.022  0.047\n",
      "co2_lvl:water_low -0.003    0.024 -0.138 0.890 -0.050  0.043\n",
      "Group Var          0.000    0.004                           \n",
      "============================================================\n",
      "\n"
     ]
    },
    {
     "name": "stderr",
     "output_type": "stream",
     "text": [
      "/opt/anaconda3/lib/python3.9/site-packages/statsmodels/base/model.py:604: ConvergenceWarning: Maximum Likelihood optimization failed to converge. Check mle_retvals\n",
      "  warnings.warn(\"Maximum Likelihood optimization failed to \"\n",
      "/opt/anaconda3/lib/python3.9/site-packages/statsmodels/regression/mixed_linear_model.py:2200: ConvergenceWarning: Retrying MixedLM optimization with lbfgs\n",
      "  warnings.warn(\n",
      "/opt/anaconda3/lib/python3.9/site-packages/statsmodels/base/model.py:604: ConvergenceWarning: Maximum Likelihood optimization failed to converge. Check mle_retvals\n",
      "  warnings.warn(\"Maximum Likelihood optimization failed to \"\n",
      "/opt/anaconda3/lib/python3.9/site-packages/statsmodels/regression/mixed_linear_model.py:2200: ConvergenceWarning: Retrying MixedLM optimization with cg\n",
      "  warnings.warn(\n",
      "/opt/anaconda3/lib/python3.9/site-packages/statsmodels/base/model.py:604: ConvergenceWarning: Maximum Likelihood optimization failed to converge. Check mle_retvals\n",
      "  warnings.warn(\"Maximum Likelihood optimization failed to \"\n",
      "/opt/anaconda3/lib/python3.9/site-packages/statsmodels/regression/mixed_linear_model.py:2206: ConvergenceWarning: MixedLM optimization failed, trying a different optimizer may help.\n",
      "  warnings.warn(msg, ConvergenceWarning)\n",
      "/opt/anaconda3/lib/python3.9/site-packages/statsmodels/regression/mixed_linear_model.py:2218: ConvergenceWarning: Gradient optimization failed, |grad| = 0.102252\n",
      "  warnings.warn(msg, ConvergenceWarning)\n",
      "/opt/anaconda3/lib/python3.9/site-packages/statsmodels/regression/mixed_linear_model.py:2237: ConvergenceWarning: The MLE may be on the boundary of the parameter space.\n",
      "  warnings.warn(msg, ConvergenceWarning)\n"
     ]
    }
   ],
   "source": [
    "ceoc = df[df.species=='CEOC']\n",
    "\n",
    "sn.boxplot(data=ceoc, x='water_lvl', y='total_biomass', hue='co2_lvl')\n",
    "plt.show()\n",
    "\n",
    "# model = smf.ols('total_biomass ~ co2_lvl + co2_lvl*water_low + co2_lvl*water_high + co2_lvl*water_fluct', ceoc)\n",
    "model = smf.mixedlm('total_biomass ~ co2_lvl', ceoc, groups=ceoc['shelf'], re_formula='co2_lvl', vc_formula={'chamber:shelf': '0 + C(student_id)'})\n",
    "res = model.fit()\n",
    "\n",
    "print(res.summary())"
   ]
  },
  {
   "cell_type": "code",
   "execution_count": 64,
   "metadata": {},
   "outputs": [
    {
     "data": {
      "image/png": "[encoded data removed]",
      "text/plain": [
       "<Figure size 640x480 with 1 Axes>"
      ]
     },
     "metadata": {},
     "output_type": "display_data"
    },
    {
     "name": "stdout",
     "output_type": "stream",
     "text": [
      "            Mixed Linear Model Regression Results\n",
      "=============================================================\n",
      "Model:              MixedLM Dependent Variable: total_biomass\n",
      "No. Observations:   36      Method:             REML         \n",
      "No. Groups:         3       Scale:              1.1657       \n",
      "Min. group size:    12      Log-Likelihood:     -50.8442     \n",
      "Max. group size:    12      Converged:          Yes          \n",
      "Mean group size:    12.0                                     \n",
      "-------------------------------------------------------------\n",
      "                   Coef.  Std.Err.   z    P>|z| [0.025 0.975]\n",
      "-------------------------------------------------------------\n",
      "Intercept           1.509    0.470  3.209 0.001  0.587  2.430\n",
      "co2_lvl             1.277    0.623  2.049 0.040  0.056  2.499\n",
      "water_low           1.391    0.623  2.232 0.026  0.170  2.613\n",
      "co2_lvl:water_low  -1.199    0.882 -1.360 0.174 -2.927  0.529\n",
      "water_high          0.781    0.623  1.253 0.210 -0.441  2.003\n",
      "co2_lvl:water_high -0.357    0.882 -0.405 0.686 -2.085  1.371\n",
      "Group Var           0.080    0.170                           \n",
      "=============================================================\n",
      "\n"
     ]
    }
   ],
   "source": [
    "pofr = df[df.species=='POFR']\n",
    "\n",
    "sn.boxplot(data=pofr, x='water_lvl', y='total_biomass', hue='co2_lvl')\n",
    "plt.show()\n",
    "\n",
    "# model = smf.ols('total_biomass ~ co2_lvl + co2_lvl*water_low + co2_lvl*water_high + co2_lvl*water_fluct', pofr)\n",
    "model = smf.mixedlm('total_biomass ~ co2_lvl + co2_lvl*water_low + co2_lvl*water_high', pofr, groups=pofr['shelf'])\n",
    "res = model.fit()\n",
    "\n",
    "print(res.summary())"
   ]
  },
  {
   "cell_type": "code",
   "execution_count": 42,
   "metadata": {},
   "outputs": [
    {
     "data": {
      "image/png": "[encoded data removed]",
      "text/plain": [
       "<Figure size 640x480 with 1 Axes>"
      ]
     },
     "metadata": {},
     "output_type": "display_data"
    },
    {
     "name": "stdout",
     "output_type": "stream",
     "text": [
      "                            OLS Regression Results                            \n",
      "==============================================================================\n",
      "Dep. Variable:          total_biomass   R-squared:                       0.306\n",
      "Model:                            OLS   Adj. R-squared:                  0.187\n",
      "Method:                 Least Squares   F-statistic:                     2.560\n",
      "Date:                Sun, 29 Oct 2023   Prob (F-statistic):             0.0490\n",
      "Time:                        12:23:42   Log-Likelihood:                -39.795\n",
      "No. Observations:                  35   AIC:                             91.59\n",
      "Df Residuals:                      29   BIC:                             100.9\n",
      "Df Model:                           5                                         \n",
      "Covariance Type:            nonrobust                                         \n",
      "=======================================================================================\n",
      "                          coef    std err          t      P>|t|      [0.025      0.975]\n",
      "---------------------------------------------------------------------------------------\n",
      "Intercept               1.0701      0.151      7.073      0.000       0.761       1.380\n",
      "co2_lvl                 0.3288      0.211      1.561      0.129      -0.102       0.759\n",
      "water_low               0.4206      0.283      1.486      0.148      -0.158       0.999\n",
      "co2_lvl:water_low      -0.2882      0.398     -0.723      0.475      -1.103       0.527\n",
      "water_high              0.5275      0.283      1.864      0.073      -0.051       1.106\n",
      "co2_lvl:water_high      0.7974      0.398      2.001      0.055      -0.018       1.612\n",
      "water_fluct             0.1221      0.303      0.403      0.690      -0.497       0.741\n",
      "co2_lvl:water_fluct    -0.1804      0.413     -0.437      0.665      -1.024       0.664\n",
      "==============================================================================\n",
      "Omnibus:                        0.543   Durbin-Watson:                   1.841\n",
      "Prob(Omnibus):                  0.762   Jarque-Bera (JB):                0.669\n",
      "Skew:                           0.211   Prob(JB):                        0.716\n",
      "Kurtosis:                       2.471   Cond. No.                     3.15e+16\n",
      "==============================================================================\n",
      "\n",
      "Notes:\n",
      "[1] Standard Errors assume that the covariance matrix of the errors is correctly specified.\n",
      "[2] The smallest eigenvalue is 6.24e-32. This might indicate that there are\n",
      "strong multicollinearity problems or that the design matrix is singular.\n"
     ]
    }
   ],
   "source": [
    "sago = df[df.species=='SAGO']\n",
    "\n",
    "sn.boxplot(data=sago, x='water_lvl', y='total_biomass', hue='co2_lvl')\n",
    "plt.show()\n",
    "\n",
    "model = smf.ols('total_biomass ~ co2_lvl + co2_lvl*water_low + co2_lvl*water_high + co2_lvl*water_fluct', sago)\n",
    "res = model.fit()\n",
    "\n",
    "print(res.summary())"
   ]
  },
  {
   "cell_type": "code",
   "execution_count": 46,
   "metadata": {},
   "outputs": [
    {
     "data": {
      "image/png": "[encoded data removed]",
      "text/plain": [
       "<Figure size 640x480 with 1 Axes>"
      ]
     },
     "metadata": {},
     "output_type": "display_data"
    },
    {
     "name": "stdout",
     "output_type": "stream",
     "text": [
      "                            OLS Regression Results                            \n",
      "==============================================================================\n",
      "Dep. Variable:          total_biomass   R-squared:                       0.208\n",
      "Model:                            OLS   Adj. R-squared:                  0.076\n",
      "Method:                 Least Squares   F-statistic:                     1.573\n",
      "Date:                Sun, 29 Oct 2023   Prob (F-statistic):              0.198\n",
      "Time:                        12:28:24   Log-Likelihood:                -12.157\n",
      "No. Observations:                  36   AIC:                             36.31\n",
      "Df Residuals:                      30   BIC:                             45.81\n",
      "Df Model:                           5                                         \n",
      "Covariance Type:            nonrobust                                         \n",
      "=======================================================================================\n",
      "                          coef    std err          t      P>|t|      [0.025      0.975]\n",
      "---------------------------------------------------------------------------------------\n",
      "Intercept               0.3015      0.066      4.590      0.000       0.167       0.436\n",
      "co2_lvl                 0.1733      0.093      1.866      0.072      -0.016       0.363\n",
      "water_low               0.1137      0.126      0.904      0.373      -0.143       0.371\n",
      "co2_lvl:water_low       0.2899      0.178      1.630      0.114      -0.073       0.653\n",
      "water_high              0.0415      0.126      0.330      0.744      -0.215       0.298\n",
      "co2_lvl:water_high     -0.0550      0.178     -0.309      0.759      -0.418       0.308\n",
      "water_fluct             0.1463      0.126      1.163      0.254      -0.111       0.403\n",
      "co2_lvl:water_fluct    -0.0616      0.178     -0.347      0.731      -0.425       0.302\n",
      "==============================================================================\n",
      "Omnibus:                       24.531   Durbin-Watson:                   1.953\n",
      "Prob(Omnibus):                  0.000   Jarque-Bera (JB):               56.992\n",
      "Skew:                           1.525   Prob(JB):                     4.21e-13\n",
      "Kurtosis:                       8.356   Cond. No.                     3.44e+16\n",
      "==============================================================================\n",
      "\n",
      "Notes:\n",
      "[1] Standard Errors assume that the covariance matrix of the errors is correctly specified.\n",
      "[2] The smallest eigenvalue is 5.31e-32. This might indicate that there are\n",
      "strong multicollinearity problems or that the design matrix is singular.\n"
     ]
    }
   ],
   "source": [
    "tach = df[df.species=='TACH']\n",
    "\n",
    "sn.boxplot(data=tach, x='water_lvl', y='total_biomass', hue='co2_lvl')\n",
    "plt.show()\n",
    "\n",
    "model = smf.ols('total_biomass ~ co2_lvl + co2_lvl*water_low + co2_lvl*water_high + co2_lvl*water_fluct', tach)\n",
    "res = model.fit()\n",
    "\n",
    "print(res.summary())"
   ]
  },
  {
   "cell_type": "code",
   "execution_count": null,
   "metadata": {},
   "outputs": [],
   "source": []
  }
 ],
 "metadata": {
  "kernelspec": {
   "display_name": "base",
   "language": "python",
   "name": "python3"
  },
  "language_info": {
   "codemirror_mode": {
    "name": "ipython",
    "version": 3
   },
   "file_extension": ".py",
   "mimetype": "text/x-python",
   "name": "python",
   "nbconvert_exporter": "python",
   "pygments_lexer": "ipython3",
   "version": "3.9.13"
  },
  "orig_nbformat": 4
 },
 "nbformat": 4,
 "nbformat_minor": 2
}
